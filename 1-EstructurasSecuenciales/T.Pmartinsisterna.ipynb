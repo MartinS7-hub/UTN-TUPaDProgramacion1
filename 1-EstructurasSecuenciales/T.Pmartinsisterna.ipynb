{
 "cells": [
  {
   "cell_type": "markdown",
   "id": "9cf8198e",
   "metadata": {},
   "source": [
    "#TECNICATURA UNIVERSITARIA EN PROGRAMACIÓN \n",
    "#Actividades  \n",
    "#1) Crear un programa que imprima por pantalla el mensaje: “Hola Mundo!”.  "
   ]
  },
  {
   "cell_type": "code",
   "execution_count": null,
   "id": "88d1b931",
   "metadata": {},
   "outputs": [],
   "source": [
    "print(\"Hola Mundo\")"
   ]
  },
  {
   "cell_type": "markdown",
   "id": "3831bbf6",
   "metadata": {},
   "source": [
    "#2) Crear un programa que pida al usuario su nombre e imprima por pantalla un saludo usando \n",
    "#el nombre ingresado. Por ejemplo: si el usuario ingresa “Marcos”, el programa debe imprimir \n",
    "#por pantalla “Hola Marcos!”. Consejo: esto será más sencillo si utilizas print(f…) para realizar la impresión por pantalla. "
   ]
  },
  {
   "cell_type": "code",
   "execution_count": null,
   "id": "a08ad14c",
   "metadata": {},
   "outputs": [],
   "source": [
    "nombre = input(\"Ingresa tu nombre: \")\n",
    "print(f\"Hola,{nombre}\")"
   ]
  },
  {
   "cell_type": "markdown",
   "id": "0c185993",
   "metadata": {},
   "source": [
    "#3) Crear un programa que pida al usuario su nombre, apellido, edad y lugar de residencia e \n",
    "#imprima por pantalla una oración con los datos ingresados. Por ejemplo: si el usuario ingresa \n",
    "#“Marcos”, “Pérez”, “30” y “Argentina”, el programa debe imprimir “Soy Marcos Pérez, tengo 30 #años y vivo en Argentina”.\n",
    "# Consejo: esto será más sencillo si utilizas print(f…) para realizar la impresión por pantalla.  \n"
   ]
  },
  {
   "cell_type": "code",
   "execution_count": null,
   "id": "aa9b8ea4",
   "metadata": {},
   "outputs": [],
   "source": [
    "nombre1 = input(\"Ingresa tu Nombre: \")\n",
    "apellido = input(\"Ingresa tu Apellido: \")\n",
    "edad = input(\"Ingresa tu Edad: \")\n",
    "residencia = input(\"Ingresa tu lugar de Residencia: \")\n",
    "print(f\"Hola, yo soy {nombre1} {apellido}, tengo {edad} y soy de {residencia}\")\n"
   ]
  },
  {
   "cell_type": "markdown",
   "id": "8b4a157f",
   "metadata": {},
   "source": [
    "#4) Crear un programa que pida al usuario el radio de un círculo e imprima por pantalla su área y su perímetro. "
   ]
  },
  {
   "cell_type": "code",
   "execution_count": null,
   "id": "f54d08df",
   "metadata": {},
   "outputs": [],
   "source": [
    "radio = input(\"Ingresa el Radio: \")\n",
    "radio2 = float(radio)\n",
    "\n",
    "area = 3.14 * (radio2 ** 2)\n",
    "\n",
    "perimetro= 2 * 3.14 * radio2\n",
    "\n",
    "print(f\"Usted ha ingresado el Radio de {radio2}, por lo tanto, su Área es de {area} Y su Perimetro es de {perimetro}\")\n"
   ]
  },
  {
   "cell_type": "markdown",
   "id": "2dc32d12",
   "metadata": {},
   "source": [
    "#5) Crear un programa que pida al usuario una cantidad de segundos e imprima por pantalla a cuántas horas equivale. \n"
   ]
  },
  {
   "cell_type": "code",
   "execution_count": null,
   "id": "f93b7633",
   "metadata": {},
   "outputs": [],
   "source": [
    "segundos= int(input(\"Ingresa los segundos que desee: \"))\n",
    "\n",
    "minutos= segundos // 60\n",
    "\n",
    "hora= segundos // 3600\n",
    "\n",
    "print(f\"Usted ah Ingresado {segundos}, por lo tanto serian {minutos} Minutos y {hora} Horas\")"
   ]
  },
  {
   "cell_type": "markdown",
   "id": "dc565520",
   "metadata": {},
   "source": [
    "#6) Crear un programa que pida al usuario un número e imprima por pantalla la tabla de multiplicar de dicho número. "
   ]
  },
  {
   "cell_type": "code",
   "execution_count": null,
   "id": "c2bfdefa",
   "metadata": {},
   "outputs": [],
   "source": [
    "numeros = input(\"Ingresa un Numero: \")\n",
    "numero2 = float(numeros)\n",
    "\n",
    "print(f\"Usted ha ingresado el Numero {numeros}\")\n",
    "\n",
    "for i in range (1,11):\n",
    "    multiplicar = numero2 * i\n",
    "    print(f\"{numeros} X  {i} = {multiplicar}\")\n"
   ]
  },
  {
   "cell_type": "markdown",
   "id": "a8676884",
   "metadata": {},
   "source": [
    "#7) Crear un programa que pida al usuario dos números enteros distintos del 0 y muestre por \n",
    "# pantalla el resultado de sumarlos, dividirlos, multiplicarlos y restarlos. \n"
   ]
  },
  {
   "cell_type": "code",
   "execution_count": null,
   "id": "c37d75c5",
   "metadata": {},
   "outputs": [],
   "source": [
    "print(\"Ingresa 2 Numeros \")\n",
    "numeroE = int(input(\"Ingresa el primer Numero: \"))\n",
    "numero11 = int(input(\"Ingresa el segundo Numero: \"))\n",
    "\n",
    "if numero <= 0 or numero1 <= 0:\n",
    "    print(\"INGRESA UN NUMERO MAYOR A 0\")\n",
    "else:\n",
    "    multiplicarr = numeroE * numero11\n",
    "    resta = numeroE - numero11\n",
    "    division = numeroE / numero11\n",
    "    suma = numeroE + numero11\n",
    "    \n",
    "    print(f\"Usted ah Ingresado el Numero {numeroE} y el Numero {numero11}, por lo tanto la suma de los 2 valores seria {suma}, la resta seria {resta}, la multiplicacion {multiplicarr} y la division {division}\")"
   ]
  },
  {
   "cell_type": "markdown",
   "id": "09061c94",
   "metadata": {},
   "source": [
    "#8) Crear un programa que pida al usuario su altura y su peso e imprima por pantalla su índice \n",
    "#de masa corporal. Tener en cuenta que el índice de masa corporal "
   ]
  },
  {
   "cell_type": "code",
   "execution_count": null,
   "id": "badff186",
   "metadata": {},
   "outputs": [],
   "source": [
    "altura= float(input(\"Ingresa tu altura: \"))\n",
    "peso= float(input(\"Ingresa tu peso: \"))\n",
    "\n",
    "altura2 = altura ** 2\n",
    "imc = peso / altura2\n",
    "\n",
    "print(f\"Segun su Altura de {altura} y su peso de {peso} tu indice de masa corporal seria de {imc}\")"
   ]
  },
  {
   "cell_type": "markdown",
   "id": "2fa02d0c",
   "metadata": {},
   "source": [
    "#9) Crear un programa que pida al usuario una temperatura en grados Celsius e imprima por pantalla su equivalente en grados Fahrenheit.\n",
    "#  Tener en cuenta la siguiente equivalencia"
   ]
  },
  {
   "cell_type": "code",
   "execution_count": null,
   "id": "2efee184",
   "metadata": {},
   "outputs": [],
   "source": [
    "celcius= float(input(\"Ingresa la temperatura en grados celcius: \"))\n",
    "\n",
    "fahrenheit = (celcius * 9/5) + 32\n",
    "\n",
    "print(f\"Segun la temperatura de {celcius}°C eato equivaldria a {fahrenheit}°F\")"
   ]
  },
  {
   "cell_type": "markdown",
   "id": "38a9253b",
   "metadata": {},
   "source": [
    "#10) Crear un programa que pida al usuario  3 números e imprima por pantalla el promedio de dichos números. \n"
   ]
  },
  {
   "cell_type": "code",
   "execution_count": null,
   "id": "b5bb529c",
   "metadata": {},
   "outputs": [],
   "source": [
    "print(\"Ingresa 3 Numeros\")\n",
    "numer1 = float(input(\"Ingresa el primer Numero\"))\n",
    "numer2 = float(input(\"Ingresa el segundo Numero\"))\n",
    "numer3 = float(input(\"Ingresa el tercer Numero\"))\n",
    "\n",
    "sumar = numer1+numer2+numer3\n",
    "promedios = sumar/3\n",
    "\n",
    "print(f\"Usted ah ingresado los numeros {numer1},{numer2} y {numer3} por lo que nos da un Promedio de {promedios}\")"
   ]
  }
 ],
 "metadata": {
  "language_info": {
   "name": "python"
  }
 },
 "nbformat": 4,
 "nbformat_minor": 5
}
