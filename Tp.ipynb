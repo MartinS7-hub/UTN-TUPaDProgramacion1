{
 "cells": [
  {
   "cell_type": "markdown",
   "id": "75b54ef6",
   "metadata": {},
   "source": [
    "1) Escribir un programa que solicite la edad del usuario. Si el usuario es mayor de 18 años, \n",
    "deberá mostrar un mensaje en pantalla que diga “Es mayor de edad”. "
   ]
  },
  {
   "cell_type": "code",
   "execution_count": null,
   "id": "624c10a2",
   "metadata": {},
   "outputs": [],
   "source": [
    "edad=int(input(\"Ingrese su edad:\"))\n",
    "if edad>=18:\n",
    "    print(\"Es Mayor de Edad\")\n",
    "else:\n",
    "    print(\"Es Menor de Edad\")"
   ]
  },
  {
   "cell_type": "markdown",
   "id": "1ce4861b",
   "metadata": {},
   "source": [
    "2) Escribir un programa que solicite su nota al usuario. Si la nota es mayor o igual a 6, deberá \n",
    "mostrar por pantalla un mensaje que diga “Aprobado”; en caso contrario deberá mostrar el \n",
    "mensaje “Desaprobado”. "
   ]
  },
  {
   "cell_type": "code",
   "execution_count": 6,
   "id": "f13e52e7",
   "metadata": {},
   "outputs": [
    {
     "name": "stdout",
     "output_type": "stream",
     "text": [
      "Desaprobado\n"
     ]
    }
   ],
   "source": [
    "nota=int(input(\"Ingrese su Nota:\"))\n",
    "if nota>=6:\n",
    "    print(\"Aprobado\")\n",
    "else:\n",
    "    print(\"Desaprobado\")"
   ]
  },
  {
   "cell_type": "markdown",
   "id": "a128478e",
   "metadata": {},
   "source": [
    "3) Escribir un programa que permita ingresar solo números pares. Si el usuario ingresa un \n",
    "número par, imprimir por en pantalla el mensaje \"Ha ingresado un número par\"; en caso \n",
    "contrario, imprimir por pantalla \"Por favor, ingrese un número par\". Nota: investigar el uso del \n",
    "operador de módulo (%) en Python para evaluar si un número es par o impar."
   ]
  },
  {
   "cell_type": "code",
   "execution_count": null,
   "id": "73766855",
   "metadata": {},
   "outputs": [],
   "source": [
    "numero=int(input(\"Ingrese Un Numero:\"))\n",
    "if numero%2==0:\n",
    "    print(\"Ha Ingresado Un Numero Par\")\n",
    "else:\n",
    "    print(\"Por favor, Ingrese Un Numero Par\")"
   ]
  },
  {
   "cell_type": "markdown",
   "id": "ab212b1c",
   "metadata": {},
   "source": [
    "4) Escribir un programa que solicite al usuario su edad e imprima por pantalla a cuál de las \n",
    "siguientes categorías pertenece: \n",
    "● Niño/a: menor de 12 años. \n",
    "● Adolescente: mayor o igual que 12 años y menor que 18 años. \n",
    "● Adulto/a joven: mayor o igual que 18 años y menor que 30 años. \n",
    "● Adulto/a: mayor o igual que 30 años. "
   ]
  },
  {
   "cell_type": "code",
   "execution_count": 23,
   "id": "2bf408c1",
   "metadata": {},
   "outputs": [
    {
     "name": "stdout",
     "output_type": "stream",
     "text": [
      "Es un Adulto/a Mayor\n"
     ]
    }
   ],
   "source": [
    "edad=int(input(\"Ingrese Su Edad:\"))\n",
    "if edad<12:\n",
    "    print(\"Es Un Niño/a\")\n",
    "elif edad >=12 and edad<18:\n",
    "    print(\"Es un Adolescente/a\")\n",
    "elif edad >= 18 and edad <30:\n",
    "    print(\"Es un Adulto/a Joven\")\n",
    "elif edad >= 30:\n",
    "    print(\"Es un Adulto/a Mayor\")\n"
   ]
  },
  {
   "cell_type": "markdown",
   "id": "055e48f0",
   "metadata": {},
   "source": [
    "5) Escribir un programa que permita introducir contraseñas de entre 8 y 14 caracteres \n",
    "(incluyendo 8 y 14). Si el usuario ingresa una contraseña de longitud adecuada, imprimir por en \n",
    "pantalla el mensaje \"Ha ingresado una contraseña correcta\"; en caso contrario, imprimir por \n",
    "pantalla \"Por favor, ingrese una contraseña de entre 8 y 14 caracteres\". Nota: investigue el uso \n",
    "de la función len() en Python para evaluar la cantidad de elementos que tiene un iterable tal \n",
    "como una lista o un string. "
   ]
  },
  {
   "cell_type": "code",
   "execution_count": null,
   "id": "61f9f09c",
   "metadata": {},
   "outputs": [],
   "source": [
    "contraseña=input(\"Ingrese Su Contraseña:\")\n",
    "if len(contraseña) ==8 or len(contraseña)==14:\n",
    "    print(\"Ha ingresado una contraseña correcta\")\n",
    "else:\n",
    "    print(\"Por favor, ingrese una contraseña de entre 8 y 14 caracteres\")"
   ]
  },
  {
   "cell_type": "markdown",
   "id": "dbeb837e",
   "metadata": {},
   "source": []
  }
 ],
 "metadata": {
  "kernelspec": {
   "display_name": "Python 3",
   "language": "python",
   "name": "python3"
  },
  "language_info": {
   "codemirror_mode": {
    "name": "ipython",
    "version": 3
   },
   "file_extension": ".py",
   "mimetype": "text/x-python",
   "name": "python",
   "nbconvert_exporter": "python",
   "pygments_lexer": "ipython3",
   "version": "3.11.9"
  }
 },
 "nbformat": 4,
 "nbformat_minor": 5
}
